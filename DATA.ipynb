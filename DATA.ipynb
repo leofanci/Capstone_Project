{
    "cells": [
        {
            "cell_type": "code",
            "execution_count": 1,
            "metadata": {},
            "outputs": [
                {
                    "name": "stdout",
                    "output_type": "stream",
                    "text": "Requirement already satisfied: folium in /opt/conda/envs/Python-3.7-main/lib/python3.7/site-packages (0.12.0)\nRequirement already satisfied: branca>=0.3.0 in /opt/conda/envs/Python-3.7-main/lib/python3.7/site-packages (from folium) (0.4.2)\nRequirement already satisfied: requests in /opt/conda/envs/Python-3.7-main/lib/python3.7/site-packages (from folium) (2.24.0)\nRequirement already satisfied: numpy in /opt/conda/envs/Python-3.7-main/lib/python3.7/site-packages (from folium) (1.18.5)\nRequirement already satisfied: jinja2>=2.9 in /opt/conda/envs/Python-3.7-main/lib/python3.7/site-packages (from folium) (2.11.2)\nRequirement already satisfied: chardet<4,>=3.0.2 in /opt/conda/envs/Python-3.7-main/lib/python3.7/site-packages (from requests->folium) (3.0.4)\nRequirement already satisfied: certifi>=2017.4.17 in /opt/conda/envs/Python-3.7-main/lib/python3.7/site-packages (from requests->folium) (2020.12.5)\nRequirement already satisfied: idna<3,>=2.5 in /opt/conda/envs/Python-3.7-main/lib/python3.7/site-packages (from requests->folium) (2.9)\nRequirement already satisfied: urllib3!=1.25.0,!=1.25.1,<1.26,>=1.21.1 in /opt/conda/envs/Python-3.7-main/lib/python3.7/site-packages (from requests->folium) (1.25.9)\nRequirement already satisfied: MarkupSafe>=0.23 in /opt/conda/envs/Python-3.7-main/lib/python3.7/site-packages (from jinja2>=2.9->folium) (1.1.1)\n"
                }
            ],
            "source": "# Import modules\n!pip install folium\nimport numpy as np\nimport pandas as pd \npd.set_option('display.max_columns', None)\npd.set_option('display.max_rows', None)\nimport requests \nfrom pandas.io.json import json_normalize \nimport folium"
        },
        {
            "cell_type": "markdown",
            "metadata": {},
            "source": "# DATA"
        },
        {
            "cell_type": "raw",
            "metadata": {},
            "source": "I will be not using any external database or dataset as all the data I need can be obtained by using Foursquare API.\nI will call the nightspots existing in the cities concerned and I will use the data to create some dataframe to cluster the bars. However, this will be more clear on the complete github link. "
        },
        {
            "cell_type": "markdown",
            "metadata": {},
            "source": "Import API Foursquare keys"
        },
        {
            "cell_type": "code",
            "execution_count": 2,
            "metadata": {},
            "outputs": [],
            "source": "CLIENT_ID = '' \nCLIENT_SECRET = '' \nVERSION = '20210118'"
        },
        {
            "cell_type": "markdown",
            "metadata": {},
            "source": "Call the url"
        },
        {
            "cell_type": "code",
            "execution_count": 3,
            "metadata": {},
            "outputs": [],
            "source": "LIMIT = 500 \ncities = ['Los Angeles', 'New York', 'London', 'Milan', 'Barcelona']\nresults = {}\nfor city in cities:\n    url = 'https://api.foursquare.com/v2/venues/explore?&client_id={}&client_secret={}&v={}&near={}&limit={}&categoryId={}'.format(\n        CLIENT_ID, \n        CLIENT_SECRET, \n        VERSION, \n        city,\n        LIMIT,\n        '4d4b7105d754a06376d81259') \n    results[city] = requests.get(url).json()"
        },
        {
            "cell_type": "code",
            "execution_count": 4,
            "metadata": {},
            "outputs": [],
            "source": "df_venues={}\nfor city in cities:\n    venues = pd.json_normalize(results[city]['response']['groups'][0]['items'])\n    df_venues[city] = venues[['venue.name', 'venue.location.address', 'venue.location.lat', 'venue.location.lng']]\n    df_venues[city].columns = ['Name', 'Address', 'Lat', 'Lng']"
        },
        {
            "cell_type": "markdown",
            "metadata": {},
            "source": "Define maps and display total number of bar in each city"
        },
        {
            "cell_type": "code",
            "execution_count": 5,
            "metadata": {},
            "outputs": [
                {
                    "name": "stdout",
                    "output_type": "stream",
                    "text": "Total number of nightlife spots Los Angeles =  135\nTotal number of nightlife spots New York =  193\nTotal number of nightlife spots London =  118\nTotal number of nightlife spots Milan =  101\nTotal number of nightlife spots Barcelona =  111\n"
                }
            ],
            "source": "maps = {}\nfor city in cities:\n    city_lat = np.mean([results[city]['response']['geocode']['geometry']['bounds']['ne']['lat'],\n                        results[city]['response']['geocode']['geometry']['bounds']['sw']['lat']])\n    city_lng = np.mean([results[city]['response']['geocode']['geometry']['bounds']['ne']['lng'],\n                        results[city]['response']['geocode']['geometry']['bounds']['sw']['lng']])\n    maps[city] = folium.Map(location=[city_lat, city_lng], zoom_start=11)\n\n    for lat, lng, label in zip(df_venues[city]['Lat'], df_venues[city]['Lng'], df_venues[city]['Name']):\n        label = folium.Popup(label, parse_html=True)\n        folium.Marker(\n            [lat, lng],\n            radius=5,\n            popup=label,\n            color='blue',\n            fill=True,\n            fill_color='#3186cc',\n            fill_opacity=0.6,\n            parse_html=False).add_to(maps[city])  \n    print(f\"Total number of nightlife spots {city} = \", results[city]['response']['totalResults'])"
        },
        {
            "cell_type": "raw",
            "metadata": {},
            "source": "The outcome we were seeking: the number of bar in each city. Throug this information I will create a dataframe for each city that will be clustered.\nSee you in the next step!"
        }
    ],
    "metadata": {
        "kernelspec": {
            "display_name": "Python 3.7",
            "language": "python",
            "name": "python3"
        },
        "language_info": {
            "codemirror_mode": {
                "name": "ipython",
                "version": 3
            },
            "file_extension": ".py",
            "mimetype": "text/x-python",
            "name": "python",
            "nbconvert_exporter": "python",
            "pygments_lexer": "ipython3",
            "version": "3.7.9"
        }
    },
    "nbformat": 4,
    "nbformat_minor": 1
}