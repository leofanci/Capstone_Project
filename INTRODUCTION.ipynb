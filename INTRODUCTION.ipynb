{
 "cells": [
  {
   "cell_type": "markdown",
   "metadata": {},
   "source": [
    "# INTRODUCTION"
   ]
  },
  {
   "cell_type": "raw",
   "metadata": {},
   "source": [
    "I decided to start this little project basically for myself, however it would be helpful for other people as well. I have always wondered which is the best city where to party, but I couldn't think of the right answer without any data. Discovering such information is important for whoever decides to plan an holiday and is interested in the nightlife of a certain city. Therefore, I will try to solve my doubt by using Foursquare API and find the number of bars in five different cities (Los Angeles, New York, London, Milan and Barcelona) in order to determine which of them would probably be the most cahotic and interesting one. In addition, I will k-cluster the bars in 5 groups for each city. Each cluster represents an area of the city (North, South, East, West, Center) and I will try to understand what is the most partying area among all the 25 clusters. "
   ]
  },
  {
   "cell_type": "code",
   "execution_count": null,
   "metadata": {},
   "outputs": [],
   "source": []
  }
 ],
 "metadata": {
  "kernelspec": {
   "display_name": "Python 3",
   "language": "python",
   "name": "python3"
  },
  "language_info": {
   "codemirror_mode": {
    "name": "ipython",
    "version": 3
   },
   "file_extension": ".py",
   "mimetype": "text/x-python",
   "name": "python",
   "nbconvert_exporter": "python",
   "pygments_lexer": "ipython3",
   "version": "3.8.5"
  }
 },
 "nbformat": 4,
 "nbformat_minor": 4
}
